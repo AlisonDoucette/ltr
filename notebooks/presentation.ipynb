{
 "cells": [
  {
   "cell_type": "code",
   "execution_count": 1,
   "metadata": {
    "collapsed": true,
    "pycharm": {
     "is_executing": false
    }
   },
   "outputs": [],
   "source": [
    "import xgboost as xgb"
   ]
  },
  {
   "cell_type": "markdown",
   "source": [
    "Ranking is supported by XGBoost, though the [documentation and examples](https://github.com/dmlc/xgboost/tree/master/demo/rank) are poor.\n",
    "\n",
    "For this demo we use the [LETOR 4.0 / MQ2008](https://www.microsoft.com/en-us/research/project/letor-learning-rank-information-retrieval/)\n",
    "dataset. This the demo ranking dataset that comes with XGBoost and is commonly used in Learning to Rank tutorials.\n",
    "This dataset is downloaded as part of the included container build.\n",
    "\n",
    "The MQ2008 data provided in this demo has been transformed to [SVMLight](http://svmlight.joachims.org/) format. This is\n",
    "a standard machine learning data format that support labels, sparse feature vectors, and an enumerated group (e.g.,\n",
    "query ID). It can be easilly [read using scikit-learn](https://scikit-learn.org/stable/modules/generated/sklearn.datasets.load_svmlight_file.html)."
   ],
   "metadata": {
    "collapsed": false
   }
  },
  {
   "cell_type": "code",
   "execution_count": null,
   "outputs": [],
   "source": [
    "\n"
   ],
   "metadata": {
    "collapsed": false,
    "pycharm": {
     "name": "#%%\n"
    }
   }
  }
 ],
 "metadata": {
  "kernelspec": {
   "name": "python3",
   "language": "python",
   "display_name": "Python 3"
  },
  "language_info": {
   "codemirror_mode": {
    "name": "ipython",
    "version": 2
   },
   "file_extension": ".py",
   "mimetype": "text/x-python",
   "name": "python",
   "nbconvert_exporter": "python",
   "pygments_lexer": "ipython2",
   "version": "2.7.6"
  },
  "pycharm": {
   "stem_cell": {
    "cell_type": "raw",
    "source": [],
    "metadata": {
     "collapsed": false
    }
   }
  }
 },
 "nbformat": 4,
 "nbformat_minor": 0
}